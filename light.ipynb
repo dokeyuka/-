{
 "cells": [
  {
   "cell_type": "code",
   "execution_count": 1,
   "metadata": {},
   "outputs": [],
   "source": [
    "def length_to_energy(wave_len):\n",
    "    h = 6.626e-34  #[Js]\n",
    "    ev = 1.602e-19 #[J/ev]\n",
    "    c = 3.0e8\n",
    "\n",
    "    wave_len = wave_len*1e-6 #[m]\n",
    "    freq = c/wave_len        #[Hz]\n",
    "    freq = freq/1e12         #[THz]\n",
    "    EJ = h*c/wave_len        #[J]\n",
    "    EV = EJ/ev               #[ev]\n",
    "\n",
    "\n",
    "    ans = []\n",
    "    ans.append(freq)\n",
    "    ans.append(EV)\n",
    "    return ans\n"
   ]
  },
  {
   "cell_type": "code",
   "execution_count": 5,
   "metadata": {},
   "outputs": [
    {
     "data": {
      "text/plain": [
       "[193.54838709677418, 0.8005315935725504]"
      ]
     },
     "execution_count": 5,
     "metadata": {},
     "output_type": "execute_result"
    }
   ],
   "source": [
    "length_to_energy(1.55)"
   ]
  },
  {
   "cell_type": "code",
   "execution_count": 6,
   "metadata": {},
   "outputs": [
    {
     "name": "stdout",
     "output_type": "stream",
     "text": [
      "0.15\n",
      "8.272159800249688e-06\n"
     ]
    }
   ],
   "source": [
    "h = 6.626e-34  #[Js]\n",
    "ev = 1.602e-19 #[J/ev]\n",
    "c = 3.0e8\n",
    "freq = 2e9\n",
    "wave_len = c/2e9\n",
    "print(wave_len)\n",
    "E = h*freq/ev\n",
    "print(E)\n"
   ]
  },
  {
   "cell_type": "code",
   "execution_count": null,
   "metadata": {},
   "outputs": [],
   "source": []
  }
 ],
 "metadata": {
  "interpreter": {
   "hash": "b3ba2566441a7c06988d0923437866b63cedc61552a5af99d1f4fb67d367b25f"
  },
  "kernelspec": {
   "display_name": "Python 3.8.8 64-bit ('base': conda)",
   "name": "python3"
  },
  "language_info": {
   "codemirror_mode": {
    "name": "ipython",
    "version": 3
   },
   "file_extension": ".py",
   "mimetype": "text/x-python",
   "name": "python",
   "nbconvert_exporter": "python",
   "pygments_lexer": "ipython3",
   "version": "3.8.8"
  },
  "orig_nbformat": 4
 },
 "nbformat": 4,
 "nbformat_minor": 2
}
